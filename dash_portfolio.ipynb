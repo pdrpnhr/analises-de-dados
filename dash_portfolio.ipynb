{
 "cells": [
  {
   "cell_type": "code",
   "execution_count": 61,
   "metadata": {},
   "outputs": [],
   "source": [
    "# pip install textstat\n",
    "\n",
    "import pandas as pd\n",
    "import textstat"
   ]
  },
  {
   "cell_type": "code",
   "execution_count": 62,
   "metadata": {},
   "outputs": [
    {
     "data": {
      "text/html": [
       "<div>\n",
       "<style scoped>\n",
       "    .dataframe tbody tr th:only-of-type {\n",
       "        vertical-align: middle;\n",
       "    }\n",
       "\n",
       "    .dataframe tbody tr th {\n",
       "        vertical-align: top;\n",
       "    }\n",
       "\n",
       "    .dataframe thead th {\n",
       "        text-align: right;\n",
       "    }\n",
       "</style>\n",
       "<table border=\"1\" class=\"dataframe\">\n",
       "  <thead>\n",
       "    <tr style=\"text-align: right;\">\n",
       "      <th></th>\n",
       "      <th>Caminho</th>\n",
       "      <th>File_Title</th>\n",
       "      <th>URL</th>\n",
       "      <th>Tema</th>\n",
       "      <th>Título</th>\n",
       "      <th>Cliente</th>\n",
       "      <th>Revisão</th>\n",
       "      <th>Palavra-chave</th>\n",
       "      <th>Tom de voz</th>\n",
       "      <th>Tipo</th>\n",
       "      <th>Observações</th>\n",
       "      <th>Conteúdo</th>\n",
       "      <th>Tamanho</th>\n",
       "    </tr>\n",
       "  </thead>\n",
       "  <tbody>\n",
       "    <tr>\n",
       "      <th>0</th>\n",
       "      <td>/Finanças pessoais OK/OK [Mongeral Aegon][orça...</td>\n",
       "      <td>OK [Mongeral Aegon][orçamento familiar][Blogpo...</td>\n",
       "      <td>https://docs.google.com/document/d/1Bw1_KqVpqa...</td>\n",
       "      <td>Finanças pessoais</td>\n",
       "      <td>Orçamento familiar: saiba como elaborar de for...</td>\n",
       "      <td>Mongeral Aegon</td>\n",
       "      <td>True</td>\n",
       "      <td>orçamento familiar</td>\n",
       "      <td>Casual/Informativo</td>\n",
       "      <td>Blogpost</td>\n",
       "      <td>NaN</td>\n",
       "      <td>NaN</td>\n",
       "      <td>NaN</td>\n",
       "    </tr>\n",
       "  </tbody>\n",
       "</table>\n",
       "</div>"
      ],
      "text/plain": [
       "                                             Caminho  \\\n",
       "0  /Finanças pessoais OK/OK [Mongeral Aegon][orça...   \n",
       "\n",
       "                                          File_Title  \\\n",
       "0  OK [Mongeral Aegon][orçamento familiar][Blogpo...   \n",
       "\n",
       "                                                 URL               Tema  \\\n",
       "0  https://docs.google.com/document/d/1Bw1_KqVpqa...  Finanças pessoais   \n",
       "\n",
       "                                              Título         Cliente  Revisão  \\\n",
       "0  Orçamento familiar: saiba como elaborar de for...  Mongeral Aegon     True   \n",
       "\n",
       "        Palavra-chave          Tom de voz      Tipo Observações  Conteúdo  \\\n",
       "0  orçamento familiar  Casual/Informativo  Blogpost         NaN       NaN   \n",
       "\n",
       "   Tamanho  \n",
       "0      NaN  "
      ]
     },
     "execution_count": 62,
     "metadata": {},
     "output_type": "execute_result"
    }
   ],
   "source": [
    "sheet_name = \"portfolio_dataset\"\n",
    "sheet_id = \"13n1Dlr49vbJlkEa1kxAR0AGP_HL836o8gpVrU5W6e1M\"\n",
    "url = f\"https://docs.google.com/spreadsheets/d/{sheet_id}/gviz/tq?tqx=out:csv&sheet={sheet_name}\"\n",
    "\n",
    "df = pd.read_csv(url)\n",
    "df.head(1)"
   ]
  },
  {
   "cell_type": "code",
   "execution_count": 63,
   "metadata": {},
   "outputs": [
    {
     "data": {
      "text/plain": [
       "Index(['Caminho', 'File_Title', 'URL', 'Tema', 'Título', 'Cliente', 'Revisão',\n",
       "       'Palavra-chave', 'Tom de voz', 'Tipo', 'Observações', 'Conteúdo',\n",
       "       'Tamanho'],\n",
       "      dtype='object')"
      ]
     },
     "execution_count": 63,
     "metadata": {},
     "output_type": "execute_result"
    }
   ],
   "source": [
    "df.columns"
   ]
  },
  {
   "cell_type": "code",
   "execution_count": 64,
   "metadata": {},
   "outputs": [
    {
     "name": "stdout",
     "output_type": "stream",
     "text": [
      "<class 'pandas.core.frame.DataFrame'>\n",
      "RangeIndex: 57 entries, 0 to 56\n",
      "Data columns (total 11 columns):\n",
      " #   Column         Non-Null Count  Dtype  \n",
      "---  ------         --------------  -----  \n",
      " 0   URL            57 non-null     object \n",
      " 1   Tema           57 non-null     object \n",
      " 2   Título         57 non-null     object \n",
      " 3   Cliente        57 non-null     object \n",
      " 4   Revisão        57 non-null     bool   \n",
      " 5   Palavra-chave  52 non-null     object \n",
      " 6   Tom de voz     57 non-null     object \n",
      " 7   Tipo           57 non-null     object \n",
      " 8   Observações    4 non-null      object \n",
      " 9   Conteúdo       0 non-null      float64\n",
      " 10  Tamanho        0 non-null      float64\n",
      "dtypes: bool(1), float64(2), object(8)\n",
      "memory usage: 4.6+ KB\n"
     ]
    }
   ],
   "source": [
    "df = df[['URL','Tema','Título','Cliente','Revisão','Palavra-chave','Tom de voz','Tipo','Observações','Conteúdo','Tamanho']]\n",
    "df.info()"
   ]
  },
  {
   "cell_type": "code",
   "execution_count": 65,
   "metadata": {},
   "outputs": [],
   "source": [
    "conteudo = pd.read_csv('https://docs.google.com/spreadsheets/d/e/2PACX-1vQfsLrzsNo0e4MhpqSD5yuk8Riv48lPkQubry2sWmQRbkZRmLplcBZIDpyhNnSWNMYQ9yrAByYNCl0g/pub?gid=1807969944&single=true&output=csv')"
   ]
  },
  {
   "cell_type": "code",
   "execution_count": 66,
   "metadata": {},
   "outputs": [
    {
     "name": "stdout",
     "output_type": "stream",
     "text": [
      "<class 'pandas.core.frame.DataFrame'>\n",
      "RangeIndex: 55 entries, 0 to 54\n",
      "Data columns (total 3 columns):\n",
      " #   Column          Non-Null Count  Dtype \n",
      "---  ------          --------------  ----- \n",
      " 0   URL             55 non-null     object\n",
      " 1   Conteúdo        55 non-null     object\n",
      " 2   Flesch-Kincaid  55 non-null     object\n",
      "dtypes: object(3)\n",
      "memory usage: 1.4+ KB\n"
     ]
    }
   ],
   "source": [
    "conteudo.info()"
   ]
  },
  {
   "cell_type": "code",
   "execution_count": 67,
   "metadata": {},
   "outputs": [
    {
     "data": {
      "text/html": [
       "<div>\n",
       "<style scoped>\n",
       "    .dataframe tbody tr th:only-of-type {\n",
       "        vertical-align: middle;\n",
       "    }\n",
       "\n",
       "    .dataframe tbody tr th {\n",
       "        vertical-align: top;\n",
       "    }\n",
       "\n",
       "    .dataframe thead th {\n",
       "        text-align: right;\n",
       "    }\n",
       "</style>\n",
       "<table border=\"1\" class=\"dataframe\">\n",
       "  <thead>\n",
       "    <tr style=\"text-align: right;\">\n",
       "      <th></th>\n",
       "      <th>URL</th>\n",
       "      <th>Conteúdo</th>\n",
       "      <th>Flesch-Kincaid</th>\n",
       "      <th>caracteres</th>\n",
       "    </tr>\n",
       "  </thead>\n",
       "  <tbody>\n",
       "    <tr>\n",
       "      <th>0</th>\n",
       "      <td>https://docs.google.com/document/d/1Bw1_KqVpqa...</td>\n",
       "      <td>Um bom controle financeiro contribui e muito p...</td>\n",
       "      <td>43,5</td>\n",
       "      <td>7060</td>\n",
       "    </tr>\n",
       "    <tr>\n",
       "      <th>1</th>\n",
       "      <td>https://docs.google.com/document/d/1lAwSktYGk0...</td>\n",
       "      <td>Você provavelmente já ouviu falar que o cartão...</td>\n",
       "      <td>44,1</td>\n",
       "      <td>6737</td>\n",
       "    </tr>\n",
       "    <tr>\n",
       "      <th>2</th>\n",
       "      <td>https://docs.google.com/document/d/1dYCIwregB_...</td>\n",
       "      <td>Comprar seu primeiro imóvel é um momento marca...</td>\n",
       "      <td>34,8</td>\n",
       "      <td>6091</td>\n",
       "    </tr>\n",
       "    <tr>\n",
       "      <th>3</th>\n",
       "      <td>https://docs.google.com/document/d/1wFSpwegmR5...</td>\n",
       "      <td>No início da vida adulta, é comum convivermos ...</td>\n",
       "      <td>26,8</td>\n",
       "      <td>6789</td>\n",
       "    </tr>\n",
       "    <tr>\n",
       "      <th>4</th>\n",
       "      <td>https://docs.google.com/document/d/1orn9CXIzpD...</td>\n",
       "      <td>O segundo dia da prova do Enem costuma ser apo...</td>\n",
       "      <td>36,1</td>\n",
       "      <td>4136</td>\n",
       "    </tr>\n",
       "  </tbody>\n",
       "</table>\n",
       "</div>"
      ],
      "text/plain": [
       "                                                 URL  \\\n",
       "0  https://docs.google.com/document/d/1Bw1_KqVpqa...   \n",
       "1  https://docs.google.com/document/d/1lAwSktYGk0...   \n",
       "2  https://docs.google.com/document/d/1dYCIwregB_...   \n",
       "3  https://docs.google.com/document/d/1wFSpwegmR5...   \n",
       "4  https://docs.google.com/document/d/1orn9CXIzpD...   \n",
       "\n",
       "                                            Conteúdo Flesch-Kincaid  \\\n",
       "0  Um bom controle financeiro contribui e muito p...           43,5   \n",
       "1  Você provavelmente já ouviu falar que o cartão...           44,1   \n",
       "2  Comprar seu primeiro imóvel é um momento marca...           34,8   \n",
       "3  No início da vida adulta, é comum convivermos ...           26,8   \n",
       "4  O segundo dia da prova do Enem costuma ser apo...           36,1   \n",
       "\n",
       "   caracteres  \n",
       "0        7060  \n",
       "1        6737  \n",
       "2        6091  \n",
       "3        6789  \n",
       "4        4136  "
      ]
     },
     "execution_count": 67,
     "metadata": {},
     "output_type": "execute_result"
    }
   ],
   "source": [
    "conteudo['caracteres'] = [len(x) for x in conteudo['Conteúdo']]\n",
    "conteudo.head()"
   ]
  },
  {
   "cell_type": "code",
   "execution_count": 68,
   "metadata": {},
   "outputs": [],
   "source": [
    "conteudo['palavras'] = [len(x.split()) for x in conteudo['Conteúdo']]"
   ]
  },
  {
   "cell_type": "code",
   "execution_count": 69,
   "metadata": {},
   "outputs": [
    {
     "data": {
      "text/html": [
       "<div>\n",
       "<style scoped>\n",
       "    .dataframe tbody tr th:only-of-type {\n",
       "        vertical-align: middle;\n",
       "    }\n",
       "\n",
       "    .dataframe tbody tr th {\n",
       "        vertical-align: top;\n",
       "    }\n",
       "\n",
       "    .dataframe thead th {\n",
       "        text-align: right;\n",
       "    }\n",
       "</style>\n",
       "<table border=\"1\" class=\"dataframe\">\n",
       "  <thead>\n",
       "    <tr style=\"text-align: right;\">\n",
       "      <th></th>\n",
       "      <th>URL</th>\n",
       "      <th>Conteúdo</th>\n",
       "      <th>Flesch-Kincaid</th>\n",
       "      <th>caracteres</th>\n",
       "      <th>palavras</th>\n",
       "    </tr>\n",
       "  </thead>\n",
       "  <tbody>\n",
       "    <tr>\n",
       "      <th>0</th>\n",
       "      <td>https://docs.google.com/document/d/1Bw1_KqVpqa...</td>\n",
       "      <td>Um bom controle financeiro contribui e muito p...</td>\n",
       "      <td>43,5</td>\n",
       "      <td>7060</td>\n",
       "      <td>1229</td>\n",
       "    </tr>\n",
       "    <tr>\n",
       "      <th>1</th>\n",
       "      <td>https://docs.google.com/document/d/1lAwSktYGk0...</td>\n",
       "      <td>Você provavelmente já ouviu falar que o cartão...</td>\n",
       "      <td>44,1</td>\n",
       "      <td>6737</td>\n",
       "      <td>1183</td>\n",
       "    </tr>\n",
       "    <tr>\n",
       "      <th>2</th>\n",
       "      <td>https://docs.google.com/document/d/1dYCIwregB_...</td>\n",
       "      <td>Comprar seu primeiro imóvel é um momento marca...</td>\n",
       "      <td>34,8</td>\n",
       "      <td>6091</td>\n",
       "      <td>1019</td>\n",
       "    </tr>\n",
       "    <tr>\n",
       "      <th>3</th>\n",
       "      <td>https://docs.google.com/document/d/1wFSpwegmR5...</td>\n",
       "      <td>No início da vida adulta, é comum convivermos ...</td>\n",
       "      <td>26,8</td>\n",
       "      <td>6789</td>\n",
       "      <td>1139</td>\n",
       "    </tr>\n",
       "    <tr>\n",
       "      <th>4</th>\n",
       "      <td>https://docs.google.com/document/d/1orn9CXIzpD...</td>\n",
       "      <td>O segundo dia da prova do Enem costuma ser apo...</td>\n",
       "      <td>36,1</td>\n",
       "      <td>4136</td>\n",
       "      <td>692</td>\n",
       "    </tr>\n",
       "  </tbody>\n",
       "</table>\n",
       "</div>"
      ],
      "text/plain": [
       "                                                 URL  \\\n",
       "0  https://docs.google.com/document/d/1Bw1_KqVpqa...   \n",
       "1  https://docs.google.com/document/d/1lAwSktYGk0...   \n",
       "2  https://docs.google.com/document/d/1dYCIwregB_...   \n",
       "3  https://docs.google.com/document/d/1wFSpwegmR5...   \n",
       "4  https://docs.google.com/document/d/1orn9CXIzpD...   \n",
       "\n",
       "                                            Conteúdo Flesch-Kincaid  \\\n",
       "0  Um bom controle financeiro contribui e muito p...           43,5   \n",
       "1  Você provavelmente já ouviu falar que o cartão...           44,1   \n",
       "2  Comprar seu primeiro imóvel é um momento marca...           34,8   \n",
       "3  No início da vida adulta, é comum convivermos ...           26,8   \n",
       "4  O segundo dia da prova do Enem costuma ser apo...           36,1   \n",
       "\n",
       "   caracteres  palavras  \n",
       "0        7060      1229  \n",
       "1        6737      1183  \n",
       "2        6091      1019  \n",
       "3        6789      1139  \n",
       "4        4136       692  "
      ]
     },
     "execution_count": 69,
     "metadata": {},
     "output_type": "execute_result"
    }
   ],
   "source": [
    "conteudo.head()"
   ]
  },
  {
   "cell_type": "code",
   "execution_count": 72,
   "metadata": {},
   "outputs": [],
   "source": [
    "conteudo['Flesch-Kincaid'] = conteudo['Flesch-Kincaid'].str.replace(',','.').astype('Float64')"
   ]
  }
 ],
 "metadata": {
  "kernelspec": {
   "display_name": "Python 3",
   "language": "python",
   "name": "python3"
  },
  "language_info": {
   "codemirror_mode": {
    "name": "ipython",
    "version": 3
   },
   "file_extension": ".py",
   "mimetype": "text/x-python",
   "name": "python",
   "nbconvert_exporter": "python",
   "pygments_lexer": "ipython3",
   "version": "3.11.9"
  }
 },
 "nbformat": 4,
 "nbformat_minor": 2
}
