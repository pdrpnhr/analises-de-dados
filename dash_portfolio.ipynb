{
 "cells": [
  {
   "cell_type": "code",
   "execution_count": 2,
   "metadata": {},
   "outputs": [],
   "source": [
    "# pip install textstat\n",
    "\n",
    "import pandas as pd\n",
    "import textstat"
   ]
  },
  {
   "cell_type": "code",
   "execution_count": 3,
   "metadata": {},
   "outputs": [
    {
     "data": {
      "text/html": [
       "<div>\n",
       "<style scoped>\n",
       "    .dataframe tbody tr th:only-of-type {\n",
       "        vertical-align: middle;\n",
       "    }\n",
       "\n",
       "    .dataframe tbody tr th {\n",
       "        vertical-align: top;\n",
       "    }\n",
       "\n",
       "    .dataframe thead th {\n",
       "        text-align: right;\n",
       "    }\n",
       "</style>\n",
       "<table border=\"1\" class=\"dataframe\">\n",
       "  <thead>\n",
       "    <tr style=\"text-align: right;\">\n",
       "      <th></th>\n",
       "      <th>Caminho</th>\n",
       "      <th>Nome do arquivo</th>\n",
       "      <th>URL</th>\n",
       "      <th>Tema</th>\n",
       "      <th>Título</th>\n",
       "      <th>Cliente</th>\n",
       "      <th>Data</th>\n",
       "      <th>Revisão</th>\n",
       "      <th>Palavra-chave</th>\n",
       "      <th>Tom de voz</th>\n",
       "      <th>...</th>\n",
       "      <th>Próximo X Distante</th>\n",
       "      <th>Entusiasmado X Prático</th>\n",
       "      <th>Tipo</th>\n",
       "      <th>Observações</th>\n",
       "      <th>Nota</th>\n",
       "      <th>Conteúdo cru</th>\n",
       "      <th>Conteúdo formatado</th>\n",
       "      <th>Flesch-Kincaid</th>\n",
       "      <th>Palavras</th>\n",
       "      <th>Caracteres</th>\n",
       "    </tr>\n",
       "  </thead>\n",
       "  <tbody>\n",
       "    <tr>\n",
       "      <th>0</th>\n",
       "      <td>/Segurança condominial/OK [Garen][potência do ...</td>\n",
       "      <td>OK [Garen][potência do motor][Blogpost][Sério/...</td>\n",
       "      <td>https://docs.google.com/document/d/1CuMYFe7Edj...</td>\n",
       "      <td>Segurança condominial</td>\n",
       "      <td>Qual é a potência indicada para o motor do meu...</td>\n",
       "      <td>Garen</td>\n",
       "      <td>19/03/2021</td>\n",
       "      <td>True</td>\n",
       "      <td>potência do motor</td>\n",
       "      <td>Sério/Formal/Próximo/Prático</td>\n",
       "      <td>...</td>\n",
       "      <td>Próximo</td>\n",
       "      <td>Prático</td>\n",
       "      <td>Blogpost</td>\n",
       "      <td>4,4</td>\n",
       "      <td>4,4</td>\n",
       "      <td>Uma das partes mais importantes da automatizaç...</td>\n",
       "      <td>Uma das partes mais importantes da automatizaç...</td>\n",
       "      <td>NaN</td>\n",
       "      <td>754</td>\n",
       "      <td>4298</td>\n",
       "    </tr>\n",
       "  </tbody>\n",
       "</table>\n",
       "<p>1 rows × 22 columns</p>\n",
       "</div>"
      ],
      "text/plain": [
       "                                             Caminho  \\\n",
       "0  /Segurança condominial/OK [Garen][potência do ...   \n",
       "\n",
       "                                     Nome do arquivo  \\\n",
       "0  OK [Garen][potência do motor][Blogpost][Sério/...   \n",
       "\n",
       "                                                 URL                   Tema  \\\n",
       "0  https://docs.google.com/document/d/1CuMYFe7Edj...  Segurança condominial   \n",
       "\n",
       "                                              Título Cliente        Data  \\\n",
       "0  Qual é a potência indicada para o motor do meu...   Garen  19/03/2021   \n",
       "\n",
       "   Revisão      Palavra-chave                    Tom de voz  ...  \\\n",
       "0     True  potência do motor  Sério/Formal/Próximo/Prático  ...   \n",
       "\n",
       "  Próximo X Distante Entusiasmado X Prático      Tipo Observações Nota  \\\n",
       "0            Próximo                Prático  Blogpost         4,4  4,4   \n",
       "\n",
       "                                        Conteúdo cru  \\\n",
       "0  Uma das partes mais importantes da automatizaç...   \n",
       "\n",
       "                                  Conteúdo formatado Flesch-Kincaid Palavras  \\\n",
       "0  Uma das partes mais importantes da automatizaç...            NaN      754   \n",
       "\n",
       "   Caracteres  \n",
       "0        4298  \n",
       "\n",
       "[1 rows x 22 columns]"
      ]
     },
     "execution_count": 3,
     "metadata": {},
     "output_type": "execute_result"
    }
   ],
   "source": [
    "sheet_name = \"portfolio_dataset\"\n",
    "sheet_id = \"13n1Dlr49vbJlkEa1kxAR0AGP_HL836o8gpVrU5W6e1M\"\n",
    "url = f\"https://docs.google.com/spreadsheets/d/{sheet_id}/gviz/tq?tqx=out:csv&sheet={sheet_name}\"\n",
    "\n",
    "df = pd.read_csv(url)\n",
    "df.head(1)"
   ]
  },
  {
   "cell_type": "code",
   "execution_count": 4,
   "metadata": {},
   "outputs": [
    {
     "data": {
      "text/plain": [
       "Index(['Caminho', 'Nome do arquivo', 'URL', 'Tema', 'Título', 'Cliente',\n",
       "       'Data', 'Revisão', 'Palavra-chave', 'Tom de voz', 'Sério X Divertido',\n",
       "       'Formal X Casual', 'Próximo X Distante', 'Entusiasmado X Prático',\n",
       "       'Tipo', 'Observações', 'Nota', 'Conteúdo cru', 'Conteúdo formatado',\n",
       "       'Flesch-Kincaid', 'Palavras', 'Caracteres'],\n",
       "      dtype='object')"
      ]
     },
     "execution_count": 4,
     "metadata": {},
     "output_type": "execute_result"
    }
   ],
   "source": [
    "df.columns"
   ]
  },
  {
   "cell_type": "code",
   "execution_count": 12,
   "metadata": {},
   "outputs": [
    {
     "data": {
      "text/html": [
       "<div>\n",
       "<style scoped>\n",
       "    .dataframe tbody tr th:only-of-type {\n",
       "        vertical-align: middle;\n",
       "    }\n",
       "\n",
       "    .dataframe tbody tr th {\n",
       "        vertical-align: top;\n",
       "    }\n",
       "\n",
       "    .dataframe thead th {\n",
       "        text-align: right;\n",
       "    }\n",
       "</style>\n",
       "<table border=\"1\" class=\"dataframe\">\n",
       "  <thead>\n",
       "    <tr style=\"text-align: right;\">\n",
       "      <th></th>\n",
       "      <th>URL</th>\n",
       "      <th>Título</th>\n",
       "      <th>Conteúdo cru</th>\n",
       "    </tr>\n",
       "  </thead>\n",
       "  <tbody>\n",
       "    <tr>\n",
       "      <th>0</th>\n",
       "      <td>https://docs.google.com/document/d/1CuMYFe7Edj...</td>\n",
       "      <td>Qual é a potência indicada para o motor do meu...</td>\n",
       "      <td>Uma das partes mais importantes da automatizaç...</td>\n",
       "    </tr>\n",
       "    <tr>\n",
       "      <th>1</th>\n",
       "      <td>https://docs.google.com/document/d/1t09Y0KUq3g...</td>\n",
       "      <td>Cerca elétrica residencial: saiba as respostas...</td>\n",
       "      <td>Muito comum nas áreas rurais, a cerca elétrica...</td>\n",
       "    </tr>\n",
       "    <tr>\n",
       "      <th>2</th>\n",
       "      <td>https://docs.google.com/document/d/1Iv4-7caqHO...</td>\n",
       "      <td>Cancelas automáticas Garen: Controle de acesso...</td>\n",
       "      <td>NA IMAGEM\\nCancelas automáticas Garen\\rControl...</td>\n",
       "    </tr>\n",
       "    <tr>\n",
       "      <th>3</th>\n",
       "      <td>https://docs.google.com/document/d/1SwTs9oa6Px...</td>\n",
       "      <td>Praticidade, segurança e acessibilidade com as...</td>\n",
       "      <td>NA IMAGEM\\nPraticidade, segurança e acessibili...</td>\n",
       "    </tr>\n",
       "    <tr>\n",
       "      <th>4</th>\n",
       "      <td>https://docs.google.com/document/d/1bTPM1UBept...</td>\n",
       "      <td>Saiba como reforçar a segurança em condomínios...</td>\n",
       "      <td>Dentre as vantagens procuradas por quem opta p...</td>\n",
       "    </tr>\n",
       "  </tbody>\n",
       "</table>\n",
       "</div>"
      ],
      "text/plain": [
       "                                                 URL  \\\n",
       "0  https://docs.google.com/document/d/1CuMYFe7Edj...   \n",
       "1  https://docs.google.com/document/d/1t09Y0KUq3g...   \n",
       "2  https://docs.google.com/document/d/1Iv4-7caqHO...   \n",
       "3  https://docs.google.com/document/d/1SwTs9oa6Px...   \n",
       "4  https://docs.google.com/document/d/1bTPM1UBept...   \n",
       "\n",
       "                                              Título  \\\n",
       "0  Qual é a potência indicada para o motor do meu...   \n",
       "1  Cerca elétrica residencial: saiba as respostas...   \n",
       "2  Cancelas automáticas Garen: Controle de acesso...   \n",
       "3  Praticidade, segurança e acessibilidade com as...   \n",
       "4  Saiba como reforçar a segurança em condomínios...   \n",
       "\n",
       "                                        Conteúdo cru  \n",
       "0  Uma das partes mais importantes da automatizaç...  \n",
       "1  Muito comum nas áreas rurais, a cerca elétrica...  \n",
       "2  NA IMAGEM\\nCancelas automáticas Garen\\rControl...  \n",
       "3  NA IMAGEM\\nPraticidade, segurança e acessibili...  \n",
       "4  Dentre as vantagens procuradas por quem opta p...  "
      ]
     },
     "execution_count": 12,
     "metadata": {},
     "output_type": "execute_result"
    }
   ],
   "source": [
    "conteudo = df[['URL','Título','Conteúdo cru']]\n",
    "conteudo.head()"
   ]
  },
  {
   "cell_type": "code",
   "execution_count": 18,
   "metadata": {},
   "outputs": [
    {
     "name": "stderr",
     "output_type": "stream",
     "text": [
      "C:\\Users\\Pedro\\AppData\\Local\\Temp\\ipykernel_13436\\353300169.py:1: SettingWithCopyWarning: \n",
      "A value is trying to be set on a copy of a slice from a DataFrame.\n",
      "Try using .loc[row_indexer,col_indexer] = value instead\n",
      "\n",
      "See the caveats in the documentation: https://pandas.pydata.org/pandas-docs/stable/user_guide/indexing.html#returning-a-view-versus-a-copy\n",
      "  conteudo['Flesch_Score'] = conteudo['Conteúdo cru'].apply(textstat.flesch_reading_ease)\n"
     ]
    }
   ],
   "source": [
    "conteudo['Flesch_Score'] = conteudo['Conteúdo cru'].apply(textstat.flesch_reading_ease)"
   ]
  },
  {
   "cell_type": "code",
   "execution_count": 19,
   "metadata": {},
   "outputs": [
    {
     "data": {
      "text/html": [
       "<div>\n",
       "<style scoped>\n",
       "    .dataframe tbody tr th:only-of-type {\n",
       "        vertical-align: middle;\n",
       "    }\n",
       "\n",
       "    .dataframe tbody tr th {\n",
       "        vertical-align: top;\n",
       "    }\n",
       "\n",
       "    .dataframe thead th {\n",
       "        text-align: right;\n",
       "    }\n",
       "</style>\n",
       "<table border=\"1\" class=\"dataframe\">\n",
       "  <thead>\n",
       "    <tr style=\"text-align: right;\">\n",
       "      <th></th>\n",
       "      <th>URL</th>\n",
       "      <th>Título</th>\n",
       "      <th>Conteúdo cru</th>\n",
       "      <th>Flesch_Score</th>\n",
       "    </tr>\n",
       "  </thead>\n",
       "  <tbody>\n",
       "    <tr>\n",
       "      <th>0</th>\n",
       "      <td>https://docs.google.com/document/d/1CuMYFe7Edj...</td>\n",
       "      <td>Qual é a potência indicada para o motor do meu...</td>\n",
       "      <td>Uma das partes mais importantes da automatizaç...</td>\n",
       "      <td>48.23</td>\n",
       "    </tr>\n",
       "    <tr>\n",
       "      <th>1</th>\n",
       "      <td>https://docs.google.com/document/d/1t09Y0KUq3g...</td>\n",
       "      <td>Cerca elétrica residencial: saiba as respostas...</td>\n",
       "      <td>Muito comum nas áreas rurais, a cerca elétrica...</td>\n",
       "      <td>35.68</td>\n",
       "    </tr>\n",
       "    <tr>\n",
       "      <th>2</th>\n",
       "      <td>https://docs.google.com/document/d/1Iv4-7caqHO...</td>\n",
       "      <td>Cancelas automáticas Garen: Controle de acesso...</td>\n",
       "      <td>NA IMAGEM\\nCancelas automáticas Garen\\rControl...</td>\n",
       "      <td>7.53</td>\n",
       "    </tr>\n",
       "    <tr>\n",
       "      <th>3</th>\n",
       "      <td>https://docs.google.com/document/d/1SwTs9oa6Px...</td>\n",
       "      <td>Praticidade, segurança e acessibilidade com as...</td>\n",
       "      <td>NA IMAGEM\\nPraticidade, segurança e acessibili...</td>\n",
       "      <td>-20.23</td>\n",
       "    </tr>\n",
       "    <tr>\n",
       "      <th>4</th>\n",
       "      <td>https://docs.google.com/document/d/1bTPM1UBept...</td>\n",
       "      <td>Saiba como reforçar a segurança em condomínios...</td>\n",
       "      <td>Dentre as vantagens procuradas por quem opta p...</td>\n",
       "      <td>38.76</td>\n",
       "    </tr>\n",
       "  </tbody>\n",
       "</table>\n",
       "</div>"
      ],
      "text/plain": [
       "                                                 URL  \\\n",
       "0  https://docs.google.com/document/d/1CuMYFe7Edj...   \n",
       "1  https://docs.google.com/document/d/1t09Y0KUq3g...   \n",
       "2  https://docs.google.com/document/d/1Iv4-7caqHO...   \n",
       "3  https://docs.google.com/document/d/1SwTs9oa6Px...   \n",
       "4  https://docs.google.com/document/d/1bTPM1UBept...   \n",
       "\n",
       "                                              Título  \\\n",
       "0  Qual é a potência indicada para o motor do meu...   \n",
       "1  Cerca elétrica residencial: saiba as respostas...   \n",
       "2  Cancelas automáticas Garen: Controle de acesso...   \n",
       "3  Praticidade, segurança e acessibilidade com as...   \n",
       "4  Saiba como reforçar a segurança em condomínios...   \n",
       "\n",
       "                                        Conteúdo cru  Flesch_Score  \n",
       "0  Uma das partes mais importantes da automatizaç...         48.23  \n",
       "1  Muito comum nas áreas rurais, a cerca elétrica...         35.68  \n",
       "2  NA IMAGEM\\nCancelas automáticas Garen\\rControl...          7.53  \n",
       "3  NA IMAGEM\\nPraticidade, segurança e acessibili...        -20.23  \n",
       "4  Dentre as vantagens procuradas por quem opta p...         38.76  "
      ]
     },
     "execution_count": 19,
     "metadata": {},
     "output_type": "execute_result"
    }
   ],
   "source": [
    "conteudo.head()"
   ]
  },
  {
   "cell_type": "code",
   "execution_count": 22,
   "metadata": {},
   "outputs": [],
   "source": [
    "conteudo.to_csv('flesch_score.csv')"
   ]
  }
 ],
 "metadata": {
  "kernelspec": {
   "display_name": "Python 3",
   "language": "python",
   "name": "python3"
  },
  "language_info": {
   "codemirror_mode": {
    "name": "ipython",
    "version": 3
   },
   "file_extension": ".py",
   "mimetype": "text/x-python",
   "name": "python",
   "nbconvert_exporter": "python",
   "pygments_lexer": "ipython3",
   "version": "3.11.9"
  }
 },
 "nbformat": 4,
 "nbformat_minor": 2
}
