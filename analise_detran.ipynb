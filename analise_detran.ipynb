{
 "cells": [
  {
   "cell_type": "code",
   "execution_count": null,
   "metadata": {},
   "outputs": [],
   "source": [
    "import pandas as pd"
   ]
  },
  {
   "cell_type": "code",
   "execution_count": null,
   "metadata": {},
   "outputs": [],
   "source": [
    "lista_downloads = list(pd.read_csv('C:\\\\Users\\\\Pedro\\\\Downloads\\\\lista_download.csv'))"
   ]
  },
  {
   "cell_type": "code",
   "execution_count": null,
   "metadata": {},
   "outputs": [
    {
     "data": {
      "text/plain": [
       "92"
      ]
     },
     "execution_count": 10,
     "metadata": {},
     "output_type": "execute_result"
    }
   ],
   "source": [
    "len(lista_downloads)"
   ]
  },
  {
   "cell_type": "code",
   "execution_count": null,
   "metadata": {},
   "outputs": [
    {
     "name": "stdout",
     "output_type": "stream",
     "text": [
      "Saved detran_csvs\\QuantidadedecondutoreshabilitadosporregioufsexofaixaetriaporcategoriaJan2025.csv\n",
      "Failed to download https://www.gov.br/transportes/pt-br/assuntos/transito/conteudo-Senatran/estatisticas-quantidade-de-habilitados-denatran/QuantidadedecondutoreshabilitadosporregioufsexofaixaetriaporcategoriaJan2025.csv.1: 404 Client Error: Not Found for url: https://www.gov.br/transportes/pt-br/assuntos/transito/conteudo-Senatran/estatisticas-quantidade-de-habilitados-denatran/QuantidadedecondutoreshabilitadosporregioufsexofaixaetriaporcategoriaJan2025.csv.1\n",
      "Failed to download https://www.gov.br/transportes/pt-br/assuntos/transito/conteudo-Senatran/estatisticas-quantidade-de-habilitados-denatran/QuantidadedecondutoreshabilitadosporregioufsexofaixaetriaporcategoriaJan2025.csv.2: 404 Client Error: Not Found for url: https://www.gov.br/transportes/pt-br/assuntos/transito/conteudo-Senatran/estatisticas-quantidade-de-habilitados-denatran/QuantidadedecondutoreshabilitadosporregioufsexofaixaetriaporcategoriaJan2025.csv.2\n",
      "Failed to download https://www.gov.br/transportes/pt-br/assuntos/transito/conteudo-Senatran/estatisticas-quantidade-de-habilitados-denatran/QuantidadedecondutoreshabilitadosporregioufsexofaixaetriaporcategoriaJan2025.csv.3: 404 Client Error: Not Found for url: https://www.gov.br/transportes/pt-br/assuntos/transito/conteudo-Senatran/estatisticas-quantidade-de-habilitados-denatran/QuantidadedecondutoreshabilitadosporregioufsexofaixaetriaporcategoriaJan2025.csv.3\n",
      "Failed to download https://www.gov.br/transportes/pt-br/assuntos/transito/conteudo-Senatran/estatisticas-quantidade-de-habilitados-denatran/QuantidadedecondutoreshabilitadosporregioufsexofaixaetriaporcategoriaJan2025.csv.4: 404 Client Error: Not Found for url: https://www.gov.br/transportes/pt-br/assuntos/transito/conteudo-Senatran/estatisticas-quantidade-de-habilitados-denatran/QuantidadedecondutoreshabilitadosporregioufsexofaixaetriaporcategoriaJan2025.csv.4\n",
      "Failed to download https://www.gov.br/transportes/pt-br/assuntos/transito/conteudo-Senatran/estatisticas-quantidade-de-habilitados-denatran/QuantidadedecondutoreshabilitadosporregioufsexofaixaetriaporcategoriaJan2025.csv.5: 404 Client Error: Not Found for url: https://www.gov.br/transportes/pt-br/assuntos/transito/conteudo-Senatran/estatisticas-quantidade-de-habilitados-denatran/QuantidadedecondutoreshabilitadosporregioufsexofaixaetriaporcategoriaJan2025.csv.5\n",
      "Failed to download https://www.gov.br/transportes/pt-br/assuntos/transito/conteudo-Senatran/estatisticas-quantidade-de-habilitados-denatran/QuantidadedecondutoreshabilitadosporregioufsexofaixaetriaporcategoriaJan2025.csv.6: 404 Client Error: Not Found for url: https://www.gov.br/transportes/pt-br/assuntos/transito/conteudo-Senatran/estatisticas-quantidade-de-habilitados-denatran/QuantidadedecondutoreshabilitadosporregioufsexofaixaetriaporcategoriaJan2025.csv.6\n",
      "Failed to download https://www.gov.br/transportes/pt-br/assuntos/transito/conteudo-Senatran/estatisticas-quantidade-de-habilitados-denatran/QuantidadedecondutoreshabilitadosporregioufsexofaixaetriaporcategoriaJan2025.csv.7: 404 Client Error: Not Found for url: https://www.gov.br/transportes/pt-br/assuntos/transito/conteudo-Senatran/estatisticas-quantidade-de-habilitados-denatran/QuantidadedecondutoreshabilitadosporregioufsexofaixaetriaporcategoriaJan2025.csv.7\n",
      "Failed to download https://www.gov.br/transportes/pt-br/assuntos/transito/conteudo-Senatran/estatisticas-quantidade-de-habilitados-denatran/QuantidadedecondutoreshabilitadosporregioufsexofaixaetriaporcategoriaJan2025.csv.8: 404 Client Error: Not Found for url: https://www.gov.br/transportes/pt-br/assuntos/transito/conteudo-Senatran/estatisticas-quantidade-de-habilitados-denatran/QuantidadedecondutoreshabilitadosporregioufsexofaixaetriaporcategoriaJan2025.csv.8\n",
      "Failed to download https://www.gov.br/transportes/pt-br/assuntos/transito/conteudo-Senatran/estatisticas-quantidade-de-habilitados-denatran/QuantidadedecondutoreshabilitadosporregioufsexofaixaetriaporcategoriaJan2025.csv.9: 404 Client Error: Not Found for url: https://www.gov.br/transportes/pt-br/assuntos/transito/conteudo-Senatran/estatisticas-quantidade-de-habilitados-denatran/QuantidadedecondutoreshabilitadosporregioufsexofaixaetriaporcategoriaJan2025.csv.9\n",
      "Failed to download https://www.gov.br/transportes/pt-br/assuntos/transito/conteudo-Senatran/estatisticas-quantidade-de-habilitados-denatran/QuantidadedecondutoreshabilitadosporregioufsexofaixaetriaporcategoriaJan2025.csv.10: 404 Client Error: Not Found for url: https://www.gov.br/transportes/pt-br/assuntos/transito/conteudo-Senatran/estatisticas-quantidade-de-habilitados-denatran/QuantidadedecondutoreshabilitadosporregioufsexofaixaetriaporcategoriaJan2025.csv.10\n",
      "Failed to download https://www.gov.br/transportes/pt-br/assuntos/transito/conteudo-Senatran/estatisticas-quantidade-de-habilitados-denatran/QuantidadedecondutoreshabilitadosporregioufsexofaixaetriaporcategoriaJan2025.csv.11: 404 Client Error: Not Found for url: https://www.gov.br/transportes/pt-br/assuntos/transito/conteudo-Senatran/estatisticas-quantidade-de-habilitados-denatran/QuantidadedecondutoreshabilitadosporregioufsexofaixaetriaporcategoriaJan2025.csv.11\n",
      "Failed to download https://www.gov.br/transportes/pt-br/assuntos/transito/conteudo-Senatran/estatisticas-quantidade-de-habilitados-denatran/QuantidadedecondutoreshabilitadosporregioufsexofaixaetriaporcategoriaJan2025.csv.12: 404 Client Error: Not Found for url: https://www.gov.br/transportes/pt-br/assuntos/transito/conteudo-Senatran/estatisticas-quantidade-de-habilitados-denatran/QuantidadedecondutoreshabilitadosporregioufsexofaixaetriaporcategoriaJan2025.csv.12\n",
      "Saved detran_csvs\\condutores_habilitados_2023_12.csv\n",
      "Saved detran_csvs\\condutores_habilitados_2023_11.csv\n",
      "Saved detran_csvs\\condutores_habilitados_2023_10.csv\n",
      "Saved detran_csvs\\condutores_habilitados_2023_09.csv\n",
      "Saved detran_csvs\\condutores_habilitados_2023_08.csv\n",
      "Saved detran_csvs\\condutores_habilitados_2023_07.csv\n",
      "Saved detran_csvs\\condudores_habilitados_2023_06.csv\n",
      "Saved detran_csvs\\condutores_habilitados_2023_05.csv\n",
      "Saved detran_csvs\\condutores_habilitados_2023_04.csv\n",
      "Saved detran_csvs\\condutores_habilitados_2023_03.csv\n",
      "Saved detran_csvs\\condutores_habilitados_2023_02.csv\n",
      "Saved detran_csvs\\condutores_habilitados_2023_01.csv\n",
      "Saved detran_csvs\\condutores_habilitados_2022-12.csv\n",
      "Saved detran_csvs\\condutores_habilitados_2022-11.csv\n",
      "Saved detran_csvs\\condutores_habilitados_2022-10.csv\n",
      "Saved detran_csvs\\condutores_habilitados_2022-09.csv\n",
      "Saved detran_csvs\\condutores_habilitados_2022_08.csv\n",
      "Saved detran_csvs\\condutores_habilitados_2022_07.csv\n",
      "Saved detran_csvs\\condutores_habilitados_2022_06.csv\n",
      "Saved detran_csvs\\condutores_habilitados_2022_05.csv\n",
      "Saved detran_csvs\\condutores_habilitados_2022_04.csv\n",
      "Saved detran_csvs\\condutores_habilitados_2022_03.csv\n",
      "Saved detran_csvs\\condutores_habilitados_2022_02.csv\n",
      "Saved detran_csvs\\condutores_habilitados_2022_01.csv\n",
      "Saved detran_csvs\\condutores_habilitados_2021_12.csv\n",
      "Saved detran_csvs\\condutores_habilitados_2021_11.csv\n",
      "Saved detran_csvs\\condutores_habilitados_2021-10.csv\n",
      "Saved detran_csvs\\condutores_habilitados_2021-09.csv\n",
      "Saved detran_csvs\\condutores_habilitados_2021-08.csv\n",
      "Saved detran_csvs\\condutores_habilitados_2021-07.csv\n",
      "Saved detran_csvs\\condutores_habilitados_2021-06.csv\n",
      "Saved detran_csvs\\condutores_habilitados_2021-05.csv\n",
      "Saved detran_csvs\\condutores_habilitados_2021_04.csv\n",
      "Saved detran_csvs\\condutores_habilitados_2021_03.csv\n",
      "Saved detran_csvs\\condutores_habilitados_2021_02.csv\n",
      "Saved detran_csvs\\condutores_habilitados_2021-01.csv\n",
      "Saved detran_csvs\\condutores_habilitados_2020-12.csv\n",
      "Saved detran_csvs\\condutores_habilitados_2020-11.csv\n",
      "Saved detran_csvs\\condutores_habilitados_2020-10.csv\n",
      "Saved detran_csvs\\condutores_habilitados_2020-09.csv\n",
      "Saved detran_csvs\\condutores_habilitados_2020-08.csv\n",
      "Saved detran_csvs\\condutores_habilitados_2020-07.csv\n",
      "Saved detran_csvs\\condutores_habilitados_2020-06.csv\n",
      "Saved detran_csvs\\condutores_habilitados_2020-05.csv\n",
      "Saved detran_csvs\\condutores_habilitados_2020-04.csv\n",
      "Saved detran_csvs\\condutores_habilitados_2020-03.csv\n",
      "Saved detran_csvs\\condutores_habilitados_2020-02.csv\n",
      "Saved detran_csvs\\condutores_habilitados_2020-01.csv\n",
      "Saved detran_csvs\\condutores_habilitados_2019-12.csv\n",
      "Saved detran_csvs\\condutores_habilitados_2019-11.csv\n",
      "Saved detran_csvs\\condutores_habilitados_2019-10.csv\n",
      "Saved detran_csvs\\condutores_habilitados_2019-09.csv\n",
      "Saved detran_csvs\\condutores_habilitados_2019-08.csv\n",
      "Saved detran_csvs\\condutores_habilitados_2019-07.csv\n",
      "Saved detran_csvs\\condutores_habilitados_2019-06.csv\n",
      "Saved detran_csvs\\condutores_habilitados_2019-05.csv\n",
      "Saved detran_csvs\\condutores_habilitados_2019-04.csv\n",
      "Saved detran_csvs\\condutores_habilitados_2019-03.csv\n",
      "Saved detran_csvs\\condutores_habilitados_2019-02.csv\n",
      "Saved detran_csvs\\condutores_habilitados_2019-01.csv\n",
      "Saved detran_csvs\\condutores_habilitados_2018-12.csv\n",
      "Saved detran_csvs\\condutores_habilitados_2018-11.csv\n",
      "Saved detran_csvs\\condutores_habilitados_2018-10.csv\n",
      "Saved detran_csvs\\condutores_habilitados_2018-09.csv\n",
      "Saved detran_csvs\\condutores_habilitados_2018-08.csv\n",
      "Saved detran_csvs\\condutores_habilitados_2018-07.csv\n",
      "Saved detran_csvs\\condutores_habilitados_2018-06.csv\n",
      "Saved detran_csvs\\condutores_habilitados_2018-05.csv\n",
      "Saved detran_csvs\\condutores_habilitados_2018-04.csv\n",
      "Saved detran_csvs\\condutores_habilitados_2018-03.csv\n",
      "Saved detran_csvs\\condutores_habilitados_2018-02.csv\n",
      "Saved detran_csvs\\condutores_habilitados_2018-01.csv\n",
      "Saved detran_csvs\\condutores_habilitados_2017-12.csv\n",
      "Saved detran_csvs\\condutores_habilitados_2016-12.csv\n",
      "Saved detran_csvs\\condutores_habilitados_2015-12.csv\n",
      "Saved detran_csvs\\condutores_habilitados_2014-12.csv\n",
      "Saved detran_csvs\\condutores_habilitados_2013-12.csv\n",
      "Saved detran_csvs\\condutores_habilitados_2012-12.csv\n",
      "Saved detran_csvs\\condutores_habilitados_2011-12.csv\n"
     ]
    }
   ],
   "source": [
    "# Baixando os arquivos do site do Detran direto para o computador:\n",
    "import requests\n",
    "import os\n",
    "\n",
    "save_dir = 'detran_csvs'\n",
    "os.makedirs(save_dir, exist_ok=True)\n",
    "\n",
    "for url in lista_downloads:\n",
    "    try:\n",
    "        response = requests.get(url)\n",
    "        response.raise_for_status()\n",
    "\n",
    "        filename= os.path.join(save_dir, url.split('/')[-1])\n",
    "\n",
    "        with open(filename, 'wb') as f:\n",
    "            f.write(response.content)\n",
    "        \n",
    "        print(f'Saved {filename}')\n",
    "    \n",
    "    except requests.exceptions.RequestException as e:\n",
    "        print(f'Failed to download {url}: {e}')"
   ]
  }
 ],
 "metadata": {
  "kernelspec": {
   "display_name": "Python 3",
   "language": "python",
   "name": "python3"
  },
  "language_info": {
   "codemirror_mode": {
    "name": "ipython",
    "version": 3
   },
   "file_extension": ".py",
   "mimetype": "text/x-python",
   "name": "python",
   "nbconvert_exporter": "python",
   "pygments_lexer": "ipython3",
   "version": "3.11.9"
  }
 },
 "nbformat": 4,
 "nbformat_minor": 2
}
