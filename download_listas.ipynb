{
  "nbformat": 4,
  "nbformat_minor": 0,
  "metadata": {
    "colab": {
      "provenance": [],
      "authorship_tag": "ABX9TyNai7Og4wxDENIkFpmE071L",
      "include_colab_link": true
    },
    "kernelspec": {
      "name": "python3",
      "display_name": "Python 3"
    },
    "language_info": {
      "name": "python"
    }
  },
  "cells": [
    {
      "cell_type": "markdown",
      "metadata": {
        "id": "view-in-github",
        "colab_type": "text"
      },
      "source": [
        "<a href=\"https://colab.research.google.com/github/pdrpnhr/analises-de-dados/blob/main/download_listas.ipynb\" target=\"_parent\"><img src=\"https://colab.research.google.com/assets/colab-badge.svg\" alt=\"Open In Colab\"/></a>"
      ]
    },
    {
      "cell_type": "markdown",
      "source": [],
      "metadata": {
        "id": "0s2zUH3peJlg"
      }
    },
    {
      "cell_type": "code",
      "source": [
        "with open('/content/drive/MyDrive/TesteJN/lista_urls.csv', 'r') as f:\n",
        "    csv_reader = csv.reader(f)\n",
        "    lista_urls = [row[0] for row in csv_reader]"
      ],
      "metadata": {
        "id": "tlwlUEpoWgct"
      },
      "execution_count": null,
      "outputs": []
    },
    {
      "cell_type": "code",
      "source": [
        "# Montando o drive do Google\n",
        "\n",
        "import csv\n",
        "import os\n",
        "import requests\n",
        "from google.colab import drive\n",
        "drive.mount('/content/drive')"
      ],
      "metadata": {
        "id": "zum6d_xpV27D",
        "colab": {
          "base_uri": "https://localhost:8080/"
        },
        "outputId": "3a2da4c7-a26e-4720-e353-5de4ca36049d"
      },
      "execution_count": null,
      "outputs": [
        {
          "output_type": "stream",
          "name": "stdout",
          "text": [
            "Mounted at /content/drive\n"
          ]
        }
      ]
    },
    {
      "cell_type": "code",
      "source": [
        "pasta_arquivos = '/content/drive/MyDrive/TesteJN/arquivos'\n",
        "os.makedirs(pasta_arquivos, exist_ok=True)\n",
        "\n",
        "for url in lista_urls:\n",
        "  try:\n",
        "    response = requests.get(url)\n",
        "    response.raise_for_status()\n",
        "\n",
        "    nome_arquivo = os.path.join(pasta_arquivos, url.split('/')[-1])\n",
        "\n",
        "    with open(nome_arquivo, 'wb') as arquivo:\n",
        "      arquivo.write(response.content)\n",
        "\n",
        "      print(f'{nome_arquivo} salvo')\n",
        "\n",
        "  except requests.exceptions.RequestException as e:\n",
        "      print(f'Não pôde baixar {url}: {e}')\n",
        "\n"
      ],
      "metadata": {
        "colab": {
          "base_uri": "https://localhost:8080/"
        },
        "id": "ZqRidKknaxaH",
        "outputId": "3bd9a89c-7b1d-48f4-93c0-a8df26c17e7e"
      },
      "execution_count": null,
      "outputs": [
        {
          "output_type": "stream",
          "name": "stdout",
          "text": [
            "/content/drive/MyDrive/TesteJN/arquivos/QuantidadedecondutoreshabilitadosporregioufsexofaixaetriaporcategoriaJan2025.csv salvo\n",
            "/content/drive/MyDrive/TesteJN/arquivos/QuantidadedecondutoreshabilitadosporregioufsexofaixaetriaporcategoriaJan2025.csv salvo\n",
            "/content/drive/MyDrive/TesteJN/arquivos/QuantidadedecondutoreshabilitadosporregioufsexofaixaetriaporcategoriaJan2025.csv salvo\n",
            "/content/drive/MyDrive/TesteJN/arquivos/QuantidadedecondutoreshabilitadosporregioufsexofaixaetriaporcategoriaJan2025.csv salvo\n",
            "/content/drive/MyDrive/TesteJN/arquivos/QuantidadedecondutoreshabilitadosporregioufsexofaixaetriaporcategoriaJan2025.csv salvo\n",
            "/content/drive/MyDrive/TesteJN/arquivos/QuantidadedecondutoreshabilitadosporregioufsexofaixaetriaporcategoriaJan2025.csv salvo\n",
            "/content/drive/MyDrive/TesteJN/arquivos/QuantidadedecondutoreshabilitadosporregioufsexofaixaetriaporcategoriaJan2025.csv salvo\n",
            "/content/drive/MyDrive/TesteJN/arquivos/QuantidadedecondutoreshabilitadosporregioufsexofaixaetriaporcategoriaJan2025.csv salvo\n",
            "/content/drive/MyDrive/TesteJN/arquivos/QuantidadedecondutoreshabilitadosporregioufsexofaixaetriaporcategoriaJan2025.csv salvo\n",
            "/content/drive/MyDrive/TesteJN/arquivos/QuantidadedecondutoreshabilitadosporregioufsexofaixaetriaporcategoriaJan2025.csv salvo\n",
            "/content/drive/MyDrive/TesteJN/arquivos/QuantidadedecondutoreshabilitadosporregioufsexofaixaetriaporcategoriaJan2025.csv salvo\n",
            "/content/drive/MyDrive/TesteJN/arquivos/QuantidadedecondutoreshabilitadosporregioufsexofaixaetriaporcategoriaJan2025.csv salvo\n",
            "/content/drive/MyDrive/TesteJN/arquivos/QuantidadedecondutoreshabilitadosporregioufsexofaixaetriaporcategoriaJan2025.csv salvo\n",
            "/content/drive/MyDrive/TesteJN/arquivos/condutores_habilitados_2023_12.csv salvo\n",
            "/content/drive/MyDrive/TesteJN/arquivos/condutores_habilitados_2023_11.csv salvo\n",
            "/content/drive/MyDrive/TesteJN/arquivos/condutores_habilitados_2023_10.csv salvo\n",
            "/content/drive/MyDrive/TesteJN/arquivos/condutores_habilitados_2023_09.csv salvo\n",
            "/content/drive/MyDrive/TesteJN/arquivos/condutores_habilitados_2023_08.csv salvo\n",
            "/content/drive/MyDrive/TesteJN/arquivos/condutores_habilitados_2023_07.csv salvo\n",
            "/content/drive/MyDrive/TesteJN/arquivos/condudores_habilitados_2023_06.csv salvo\n",
            "/content/drive/MyDrive/TesteJN/arquivos/condutores_habilitados_2023_05.csv salvo\n",
            "/content/drive/MyDrive/TesteJN/arquivos/condutores_habilitados_2023_04.csv salvo\n",
            "/content/drive/MyDrive/TesteJN/arquivos/condutores_habilitados_2023_03.csv salvo\n",
            "/content/drive/MyDrive/TesteJN/arquivos/condutores_habilitados_2023_02.csv salvo\n",
            "/content/drive/MyDrive/TesteJN/arquivos/condutores_habilitados_2023_01.csv salvo\n",
            "/content/drive/MyDrive/TesteJN/arquivos/condutores_habilitados_2022-12.csv salvo\n",
            "/content/drive/MyDrive/TesteJN/arquivos/condutores_habilitados_2022-11.csv salvo\n",
            "/content/drive/MyDrive/TesteJN/arquivos/condutores_habilitados_2022-10.csv salvo\n",
            "/content/drive/MyDrive/TesteJN/arquivos/condutores_habilitados_2022-09.csv salvo\n",
            "/content/drive/MyDrive/TesteJN/arquivos/condutores_habilitados_2022_08.csv salvo\n",
            "/content/drive/MyDrive/TesteJN/arquivos/condutores_habilitados_2022_07.csv salvo\n",
            "/content/drive/MyDrive/TesteJN/arquivos/condutores_habilitados_2022_06.csv salvo\n",
            "/content/drive/MyDrive/TesteJN/arquivos/condutores_habilitados_2022_05.csv salvo\n",
            "/content/drive/MyDrive/TesteJN/arquivos/condutores_habilitados_2022_04.csv salvo\n",
            "/content/drive/MyDrive/TesteJN/arquivos/condutores_habilitados_2022_03.csv salvo\n",
            "/content/drive/MyDrive/TesteJN/arquivos/condutores_habilitados_2022_02.csv salvo\n",
            "/content/drive/MyDrive/TesteJN/arquivos/condutores_habilitados_2022_01.csv salvo\n",
            "/content/drive/MyDrive/TesteJN/arquivos/condutores_habilitados_2021_12.csv salvo\n",
            "/content/drive/MyDrive/TesteJN/arquivos/condutores_habilitados_2021_11.csv salvo\n",
            "/content/drive/MyDrive/TesteJN/arquivos/condutores_habilitados_2021-10.csv salvo\n",
            "/content/drive/MyDrive/TesteJN/arquivos/condutores_habilitados_2021-09.csv salvo\n",
            "/content/drive/MyDrive/TesteJN/arquivos/condutores_habilitados_2021-08.csv salvo\n",
            "/content/drive/MyDrive/TesteJN/arquivos/condutores_habilitados_2021-07.csv salvo\n",
            "/content/drive/MyDrive/TesteJN/arquivos/condutores_habilitados_2021-06.csv salvo\n",
            "/content/drive/MyDrive/TesteJN/arquivos/condutores_habilitados_2021-05.csv salvo\n",
            "/content/drive/MyDrive/TesteJN/arquivos/condutores_habilitados_2021_04.csv salvo\n",
            "/content/drive/MyDrive/TesteJN/arquivos/condutores_habilitados_2021_03.csv salvo\n",
            "/content/drive/MyDrive/TesteJN/arquivos/condutores_habilitados_2021_02.csv salvo\n",
            "/content/drive/MyDrive/TesteJN/arquivos/condutores_habilitados_2021-01.csv salvo\n",
            "/content/drive/MyDrive/TesteJN/arquivos/condutores_habilitados_2020-12.csv salvo\n",
            "/content/drive/MyDrive/TesteJN/arquivos/condutores_habilitados_2020-11.csv salvo\n",
            "/content/drive/MyDrive/TesteJN/arquivos/condutores_habilitados_2020-10.csv salvo\n",
            "/content/drive/MyDrive/TesteJN/arquivos/condutores_habilitados_2020-09.csv salvo\n",
            "/content/drive/MyDrive/TesteJN/arquivos/condutores_habilitados_2020-08.csv salvo\n",
            "/content/drive/MyDrive/TesteJN/arquivos/condutores_habilitados_2020-07.csv salvo\n",
            "/content/drive/MyDrive/TesteJN/arquivos/condutores_habilitados_2020-06.csv salvo\n",
            "/content/drive/MyDrive/TesteJN/arquivos/condutores_habilitados_2020-05.csv salvo\n",
            "/content/drive/MyDrive/TesteJN/arquivos/condutores_habilitados_2020-04.csv salvo\n",
            "/content/drive/MyDrive/TesteJN/arquivos/condutores_habilitados_2020-03.csv salvo\n",
            "/content/drive/MyDrive/TesteJN/arquivos/condutores_habilitados_2020-02.csv salvo\n",
            "/content/drive/MyDrive/TesteJN/arquivos/condutores_habilitados_2020-01.csv salvo\n",
            "/content/drive/MyDrive/TesteJN/arquivos/condutores_habilitados_2019-12.csv salvo\n",
            "/content/drive/MyDrive/TesteJN/arquivos/condutores_habilitados_2019-11.csv salvo\n",
            "/content/drive/MyDrive/TesteJN/arquivos/condutores_habilitados_2019-10.csv salvo\n",
            "/content/drive/MyDrive/TesteJN/arquivos/condutores_habilitados_2019-09.csv salvo\n",
            "/content/drive/MyDrive/TesteJN/arquivos/condutores_habilitados_2019-08.csv salvo\n",
            "/content/drive/MyDrive/TesteJN/arquivos/condutores_habilitados_2019-07.csv salvo\n",
            "/content/drive/MyDrive/TesteJN/arquivos/condutores_habilitados_2019-06.csv salvo\n",
            "/content/drive/MyDrive/TesteJN/arquivos/condutores_habilitados_2019-05.csv salvo\n",
            "/content/drive/MyDrive/TesteJN/arquivos/condutores_habilitados_2019-04.csv salvo\n",
            "/content/drive/MyDrive/TesteJN/arquivos/condutores_habilitados_2019-03.csv salvo\n",
            "/content/drive/MyDrive/TesteJN/arquivos/condutores_habilitados_2019-02.csv salvo\n",
            "/content/drive/MyDrive/TesteJN/arquivos/condutores_habilitados_2019-01.csv salvo\n",
            "/content/drive/MyDrive/TesteJN/arquivos/condutores_habilitados_2018-12.csv salvo\n",
            "/content/drive/MyDrive/TesteJN/arquivos/condutores_habilitados_2018-11.csv salvo\n",
            "/content/drive/MyDrive/TesteJN/arquivos/condutores_habilitados_2018-10.csv salvo\n",
            "/content/drive/MyDrive/TesteJN/arquivos/condutores_habilitados_2018-09.csv salvo\n",
            "/content/drive/MyDrive/TesteJN/arquivos/condutores_habilitados_2018-08.csv salvo\n",
            "/content/drive/MyDrive/TesteJN/arquivos/condutores_habilitados_2018-07.csv salvo\n",
            "/content/drive/MyDrive/TesteJN/arquivos/condutores_habilitados_2018-06.csv salvo\n",
            "/content/drive/MyDrive/TesteJN/arquivos/condutores_habilitados_2018-05.csv salvo\n",
            "/content/drive/MyDrive/TesteJN/arquivos/condutores_habilitados_2018-04.csv salvo\n",
            "/content/drive/MyDrive/TesteJN/arquivos/condutores_habilitados_2018-03.csv salvo\n",
            "/content/drive/MyDrive/TesteJN/arquivos/condutores_habilitados_2018-02.csv salvo\n",
            "/content/drive/MyDrive/TesteJN/arquivos/condutores_habilitados_2018-01.csv salvo\n",
            "/content/drive/MyDrive/TesteJN/arquivos/condutores_habilitados_2017-12.csv salvo\n",
            "/content/drive/MyDrive/TesteJN/arquivos/condutores_habilitados_2016-12.csv salvo\n",
            "/content/drive/MyDrive/TesteJN/arquivos/condutores_habilitados_2015-12.csv salvo\n",
            "/content/drive/MyDrive/TesteJN/arquivos/condutores_habilitados_2014-12.csv salvo\n",
            "/content/drive/MyDrive/TesteJN/arquivos/condutores_habilitados_2013-12.csv salvo\n",
            "/content/drive/MyDrive/TesteJN/arquivos/condutores_habilitados_2012-12.csv salvo\n",
            "/content/drive/MyDrive/TesteJN/arquivos/condutores_habilitados_2011-12.csv salvo\n"
          ]
        }
      ]
    }
  ]
}